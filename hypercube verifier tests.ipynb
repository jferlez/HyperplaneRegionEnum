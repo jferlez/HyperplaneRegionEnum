{
 "cells": [
  {
   "cell_type": "markdown",
   "id": "gorgeous-superior",
   "metadata": {},
   "source": [
    "### Imports"
   ]
  },
  {
   "cell_type": "code",
   "execution_count": 2,
   "id": "champion-psychiatry",
   "metadata": {},
   "outputs": [],
   "source": [
    "import numpy as np\n",
    "from matplotlib import pyplot as plt\n",
    "%matplotlib widget\n",
    "from matplotlib import cm\n",
    "from TLLnet import TLLnet\n",
    "import importlib"
   ]
  },
  {
   "cell_type": "code",
   "execution_count": 2,
   "id": "photographic-motor",
   "metadata": {},
   "outputs": [
    {
     "data": {
      "text/plain": [
       "<module 'TLLnet.TLLnet' from '/Users/james/Dropbox/Research/Postdoc Yasser/code/TLLnet/TLLnet.py'>"
      ]
     },
     "execution_count": 2,
     "metadata": {},
     "output_type": "execute_result"
    }
   ],
   "source": [
    "importlib.reload(TLLnet)"
   ]
  },
  {
   "cell_type": "markdown",
   "id": "irish-underground",
   "metadata": {},
   "source": [
    "## A Manually Contructed, Non-Trivial SISO TLL Network"
   ]
  },
  {
   "cell_type": "code",
   "execution_count": 3,
   "id": "offshore-recording",
   "metadata": {},
   "outputs": [],
   "source": [
    "kern = np.ones(7)\n",
    "bias = np.ones(7)\n",
    "# l_1\n",
    "m = (1.2-3.0)/(0.17+1)\n",
    "kern[0] = m\n",
    "bias[0] = m*(-0.17)+1.2\n",
    "# l_2\n",
    "m = (4.1-1.2)/(0.78-0.17)\n",
    "kern[1] = m\n",
    "bias[1] = m*(-0.17)+1.2\n",
    "# l_3\n",
    "m = (0.3-4.1)/(2-0.78)\n",
    "kern[2] = m\n",
    "bias[2] = m*(-0.78)+4.1\n",
    "# l_4\n",
    "m = (1.7-0.3)/(2.07-2)\n",
    "kern[3] = m\n",
    "bias[3] = m*(-2)+0.3\n",
    "# l_5\n",
    "m = (1.62-1.7)/(2.13-2.07)\n",
    "kern[4] = m\n",
    "bias[4] = m*(-2.07)+1.7\n",
    "# l_6\n",
    "m = (8.0-1.62)/(5-2.13)\n",
    "kern[5] = m\n",
    "bias[5] = m*(-2.13)+1.62\n",
    "# l_7\n",
    "m = (0-8.0)/(7.2-5)\n",
    "kern[6] = m\n",
    "bias[6] = m*(-5)+8.0\n",
    "\n",
    "kern = np.array([kern])\n",
    "\n",
    "e = np.eye(7)\n",
    "selectorMats = [[] for k in range(8)]\n",
    "selectorMats[0] = np.vstack([ e[:,0], e[:,2], e[:,4], e[:,6], e[:,6], e[:,6], e[:,6] ]).T\n",
    "selectorMats[1] = np.vstack([ e[:,1], e[:,2], e[:,4], e[:,6], e[:,6], e[:,6], e[:,6] ]).T\n",
    "selectorMats[2] = np.vstack([ e[:,1], e[:,2], e[:,6], e[:,6], e[:,6], e[:,6], e[:,6] ]).T\n",
    "selectorMats[3] = np.vstack([ e[:,1], e[:,2], e[:,4], e[:,5], e[:,6], e[:,6], e[:,6] ]).T\n",
    "selectorMats[4] = np.vstack([ e[:,1], e[:,3], e[:,4], e[:,5], e[:,6], e[:,6], e[:,6] ]).T\n",
    "selectorMats[5] = np.vstack([ e[:,1], e[:,3], e[:,4], e[:,6], e[:,6], e[:,6], e[:,6] ]).T\n",
    "selectorMats[6] = np.vstack([ e[:,1], e[:,3], e[:,5], e[:,6], e[:,6], e[:,6], e[:,6] ]).T\n",
    "selectorMats[7] = np.vstack([ e[:,1], e[:,3], e[:,6], e[:,6], e[:,6], e[:,6], e[:,6] ]).T"
   ]
  },
  {
   "cell_type": "code",
   "execution_count": 4,
   "id": "surrounded-subscription",
   "metadata": {},
   "outputs": [
    {
     "name": "stdout",
     "output_type": "stream",
     "text": [
      "Metal device set to: AMD Radeon Pro 460\n"
     ]
    },
    {
     "name": "stderr",
     "output_type": "stream",
     "text": [
      "2021-11-03 13:13:19.709023: I tensorflow/core/platform/cpu_feature_guard.cc:142] This TensorFlow binary is optimized with oneAPI Deep Neural Network Library (oneDNN) to use the following CPU instructions in performance-critical operations:  SSE4.2 AVX AVX2 FMA\n",
      "To enable them in other operations, rebuild TensorFlow with the appropriate compiler flags.\n",
      "2021-11-03 13:13:19.710176: I tensorflow/core/common_runtime/pluggable_device/pluggable_device_factory.cc:305] Could not identify NUMA node of platform GPU ID 0, defaulting to 0. Your kernel may not have been built with NUMA support.\n",
      "2021-11-03 13:13:19.711142: I tensorflow/core/common_runtime/pluggable_device/pluggable_device_factory.cc:271] Created TensorFlow device (/job:localhost/replica:0/task:0/device:GPU:0 with 0 MB memory) -> physical PluggableDevice (device: 0, name: METAL, pci bus id: <undefined>)\n"
     ]
    }
   ],
   "source": [
    "mynet = TLLnet.TLLnet(linear_fns=7,uo_regions=8,flat=True,incBias=False)\n",
    "mynet.setLocalLinFns(kern,bias)\n",
    "for k in range(7):\n",
    "    mynet.setSelector(selectorMats[k],k)"
   ]
  },
  {
   "cell_type": "code",
   "execution_count": 5,
   "id": "explicit-substitute",
   "metadata": {},
   "outputs": [
    {
     "data": {
      "application/vnd.jupyter.widget-view+json": {
       "model_id": "ee1e7976759f4f249da6e1f63a42f622",
       "version_major": 2,
       "version_minor": 0
      },
      "text/plain": [
       "Canvas(toolbar=Toolbar(toolitems=[('Home', 'Reset original view', 'home', 'home'), ('Back', 'Back to previous …"
      ]
     },
     "metadata": {},
     "output_type": "display_data"
    },
    {
     "name": "stderr",
     "output_type": "stream",
     "text": [
      "2021-11-03 13:13:27.273931: I tensorflow/compiler/mlir/mlir_graph_optimization_pass.cc:185] None of the MLIR Optimization Passes are enabled (registered 2)\n",
      "2021-11-03 13:13:27.431695: I tensorflow/core/grappler/optimizers/custom_graph_optimizer_registry.cc:112] Plugin optimizer for device_type GPU is enabled.\n"
     ]
    },
    {
     "data": {
      "application/vnd.jupyter.widget-view+json": {
       "model_id": "ee1e7976759f4f249da6e1f63a42f622",
       "version_major": 2,
       "version_minor": 0
      },
      "text/plain": [
       "Canvas(toolbar=Toolbar(toolitems=[('Home', 'Reset original view', 'home', 'home'), ('Back', 'Back to previous …"
      ]
     },
     "metadata": {},
     "output_type": "display_data"
    }
   ],
   "source": [
    "x = np.linspace(0,15,1000)\n",
    "fig = plt.figure(7)\n",
    "fig.clf()\n",
    "y = mynet.model.predict(x.reshape((len(x),1)))\n",
    "plt.plot(x,y)\n",
    "plt.axis([0,3,0,6])\n",
    "plt.grid()\n",
    "plt.show()\n",
    "display(fig.canvas)"
   ]
  },
  {
   "cell_type": "code",
   "execution_count": 56,
   "id": "empty-efficiency",
   "metadata": {},
   "outputs": [
    {
     "data": {
      "application/vnd.jupyter.widget-view+json": {
       "model_id": "b804034568244b6487c2362b84e1cc3a",
       "version_major": 2,
       "version_minor": 0
      },
      "text/plain": [
       "Canvas(toolbar=Toolbar(toolitems=[('Home', 'Reset original view', 'home', 'home'), ('Back', 'Back to previous …"
      ]
     },
     "metadata": {},
     "output_type": "display_data"
    }
   ],
   "source": [
    "x = np.linspace(0,15,1000)\n",
    "fig = plt.figure(18)\n",
    "fig.clf()\n",
    "# y = kern[0][3]*x + bias[3]\n",
    "# plt.plot(x,y)\n",
    "# y = kern[0][4]*x + bias[4]\n",
    "# plt.plot(x,y)\n",
    "# y = kern[0][5]*x + bias[5]\n",
    "# plt.plot(x,y)\n",
    "# y = kern[0][5]*x + bias[5]\n",
    "# plt.plot(x,y)\n",
    "# y = kern[0][6]*x + bias[6]\n",
    "# plt.plot(x,y)\n",
    "# y = kern[0][3]*x + bias[3]\n",
    "# plt.plot(x,y)\n",
    "# y = mynet.model.predict(x.reshape((len(x),1)))\n",
    "# plt.plot(x,y)\n",
    "plt.axis([1,3,-10,10])\n",
    "plt.grid()\n",
    "plt.show()\n",
    "display(fig.canvas)"
   ]
  },
  {
   "cell_type": "code",
   "execution_count": 18,
   "id": "accessory-german",
   "metadata": {},
   "outputs": [
    {
     "data": {
      "text/plain": [
       "8.390461997019374"
      ]
     },
     "execution_count": 18,
     "metadata": {},
     "output_type": "execute_result"
    }
   ],
   "source": [
    "kern[0][1]-kern[0][6]"
   ]
  },
  {
   "cell_type": "code",
   "execution_count": 14,
   "id": "violent-pizza",
   "metadata": {},
   "outputs": [
    {
     "data": {
      "text/plain": [
       "26.18181818181818"
      ]
     },
     "execution_count": 14,
     "metadata": {},
     "output_type": "execute_result"
    }
   ],
   "source": [
    "bias[6]"
   ]
  },
  {
   "cell_type": "code",
   "execution_count": 186,
   "id": "disturbed-stable",
   "metadata": {},
   "outputs": [
    {
     "data": {
      "application/vnd.jupyter.widget-view+json": {
       "model_id": "03109d92e43a46c9845587da86405cbf",
       "version_major": 2,
       "version_minor": 0
      },
      "text/plain": [
       "Canvas(toolbar=Toolbar(toolitems=[('Home', 'Reset original view', 'home', 'home'), ('Back', 'Back to previous …"
      ]
     },
     "metadata": {},
     "output_type": "display_data"
    }
   ],
   "source": [
    "x = np.linspace(0,4,1000)\n",
    "y1 = kern[0][1]*x + bias[1]\n",
    "y3 = kern[0][3]*x + bias[3]\n",
    "y6 = kern[0][6]*x + bias[6]\n",
    "fig = plt.figure(17)\n",
    "fig.clf()\n",
    "plt.plot(x,y1, x,y3, x,y6 )\n",
    "plt.grid()\n",
    "plt.show()\n",
    "display(fig.canvas)"
   ]
  },
  {
   "cell_type": "markdown",
   "id": "other-immunology",
   "metadata": {},
   "source": [
    "This is purely to help with the calculation of the selector sets. It computes all of the intersections of local linear functions, and indicates the order of *all* local linear functions at those intersections (as well as the pair of local linear functions that switch order at that point)"
   ]
  },
  {
   "cell_type": "code",
   "execution_count": 202,
   "id": "comparative-astrology",
   "metadata": {},
   "outputs": [
    {
     "data": {
      "text/plain": [
       "array([5.77700348])"
      ]
     },
     "execution_count": 202,
     "metadata": {},
     "output_type": "execute_result"
    }
   ],
   "source": [
    "y[-1]"
   ]
  },
  {
   "cell_type": "code",
   "execution_count": 176,
   "id": "joined-spanish",
   "metadata": {},
   "outputs": [],
   "source": [
    "outList= []\n",
    "for k in range(7):\n",
    "    for j in range(k):\n",
    "        outList.append([ (bias[j]-bias[k])/(kern[0,k]-kern[0,j]), [k,j], np.argsort( [(bias[j]-bias[k])/(kern[0,k]-kern[0,j])] @ kern + bias ) ])\n",
    "outList.sort()"
   ]
  },
  {
   "cell_type": "code",
   "execution_count": 177,
   "id": "reasonable-tonight",
   "metadata": {},
   "outputs": [
    {
     "data": {
      "text/plain": [
       "[[-14.617499999999696, [4, 0], array([3, 1, 5, 0, 4, 2, 6])],\n",
       " [-1.3854779743636036, [5, 1], array([3, 1, 5, 0, 4, 2, 6])],\n",
       " [0.17, [1, 0], array([3, 5, 0, 1, 4, 2, 6])],\n",
       " [0.6682944344703763, [4, 1], array([3, 5, 0, 4, 1, 2, 6])],\n",
       " [0.78, [2, 1], array([3, 5, 0, 4, 1, 2, 6])],\n",
       " [1.161717791411045, [4, 2], array([3, 5, 0, 2, 4, 1, 6])],\n",
       " [1.2166880433233576, [5, 0], array([3, 0, 5, 2, 4, 1, 6])],\n",
       " [1.8068455183631535, [5, 2], array([3, 0, 5, 2, 4, 1, 6])],\n",
       " [1.9110714285714288, [3, 0], array([3, 0, 2, 5, 4, 1, 6])],\n",
       " [2.0, [3, 2], array([0, 3, 2, 5, 4, 1, 6])],\n",
       " [2.057996863974912, [5, 3], array([0, 2, 5, 3, 4, 1, 6])],\n",
       " [2.0700000000000003, [4, 3], array([0, 2, 5, 4, 3, 1, 6])],\n",
       " [2.13, [5, 4], array([0, 2, 4, 5, 3, 1, 6])],\n",
       " [2.629677419354837, [3, 1], array([0, 2, 4, 5, 1, 3, 6])],\n",
       " [2.787307692307691, [6, 3], array([0, 2, 4, 5, 1, 3, 6])],\n",
       " [3.073730017761989, [6, 1], array([0, 2, 4, 5, 1, 6, 3])],\n",
       " [3.21512, [2, 0], array([0, 2, 4, 5, 6, 1, 3])],\n",
       " [4.999999999999999, [6, 5], array([2, 0, 4, 5, 6, 1, 3])],\n",
       " [9.431842105263147, [6, 4], array([2, 0, 6, 4, 5, 1, 3])],\n",
       " [11.783333333333335, [6, 0], array([2, 0, 6, 4, 5, 1, 3])],\n",
       " [37.67628571428572, [6, 2], array([2, 6, 0, 4, 5, 1, 3])]]"
      ]
     },
     "execution_count": 177,
     "metadata": {},
     "output_type": "execute_result"
    }
   ],
   "source": [
    "outList"
   ]
  },
  {
   "cell_type": "code",
   "execution_count": 191,
   "id": "awful-mongolia",
   "metadata": {},
   "outputs": [
    {
     "data": {
      "text/plain": [
       "array([[1.85737705]])"
      ]
     },
     "execution_count": 191,
     "metadata": {},
     "output_type": "execute_result"
    }
   ],
   "source": [
    "mynet.model.predict(np.array([[1.5]]))"
   ]
  },
  {
   "cell_type": "code",
   "execution_count": 200,
   "id": "ceramic-offset",
   "metadata": {},
   "outputs": [],
   "source": [
    "mynet.model.save('sisotestmodel.h5')"
   ]
  },
  {
   "cell_type": "markdown",
   "id": "loving-banner",
   "metadata": {},
   "source": [
    "## VolestiPy Example"
   ]
  },
  {
   "cell_type": "markdown",
   "id": "pending-circular",
   "metadata": {},
   "source": [
    "This is a short example of how to use the VolestiPy library to generate samples from inside a polytope. NOTE: HPolytope is defined in terms of Ax <= b."
   ]
  },
  {
   "cell_type": "code",
   "execution_count": 201,
   "id": "intended-founder",
   "metadata": {},
   "outputs": [],
   "source": [
    "import volestipy"
   ]
  },
  {
   "cell_type": "code",
   "execution_count": 204,
   "id": "worst-ocean",
   "metadata": {},
   "outputs": [],
   "source": [
    "A = np.array( [[1,0], [-1,0], [0,1], [0,-1]] , dtype=np.float64)\n",
    "b = np.array( [1, -2 , 0, -10] , dtype=np.float64)"
   ]
  },
  {
   "cell_type": "code",
   "execution_count": 207,
   "id": "undefined-reach",
   "metadata": {},
   "outputs": [],
   "source": [
    "poly = volestipy.HPolytope(-A,-b)"
   ]
  },
  {
   "cell_type": "code",
   "execution_count": 209,
   "id": "proof-aging",
   "metadata": {},
   "outputs": [],
   "source": [
    "samples = poly.generate_samples(10)"
   ]
  },
  {
   "cell_type": "code",
   "execution_count": 211,
   "id": "possible-september",
   "metadata": {},
   "outputs": [
    {
     "data": {
      "text/plain": [
       "array([[1.49994869, 7.92075959],\n",
       "       [1.39978068, 0.3997041 ],\n",
       "       [1.56513563, 7.82896172],\n",
       "       [1.57821193, 8.174628  ],\n",
       "       [1.23401778, 4.7823932 ],\n",
       "       [1.29123014, 9.09923569],\n",
       "       [1.08879678, 5.54214917],\n",
       "       [1.54324589, 8.54456577],\n",
       "       [1.05747004, 2.90304522],\n",
       "       [1.95504744, 2.82493674]])"
      ]
     },
     "execution_count": 211,
     "metadata": {},
     "output_type": "execute_result"
    }
   ],
   "source": [
    "samples[0:10]"
   ]
  },
  {
   "cell_type": "markdown",
   "id": "moderate-belgium",
   "metadata": {},
   "source": [
    "## Testing auto-generation of TLL networks"
   ]
  },
  {
   "cell_type": "code",
   "execution_count": 347,
   "id": "ahead-least",
   "metadata": {},
   "outputs": [
    {
     "data": {
      "text/plain": [
       "<module 'TLLnet.TLLnet' from '/Users/james/Dropbox/Research/Postdoc Yasser/code/TLLnet/TLLnet.py'>"
      ]
     },
     "execution_count": 347,
     "metadata": {},
     "output_type": "execute_result"
    }
   ],
   "source": [
    "importlib.reload(TLLnet)"
   ]
  },
  {
   "cell_type": "markdown",
   "id": "compliant-latest",
   "metadata": {},
   "source": [
    "### In 1-D"
   ]
  },
  {
   "cell_type": "code",
   "execution_count": 5,
   "id": "eleven-copper",
   "metadata": {},
   "outputs": [
    {
     "name": "stderr",
     "output_type": "stream",
     "text": [
      "/Users/james/Dropbox/Research/Postdoc Yasser/code/TLLnet/TLLnet.py:191: FutureWarning: `rcond` parameter will change to the default of machine precision times ``max(M, N)`` where M and N are the input matrix dimensions.\n",
      "To use the future default and silence this warning we advise to pass `rcond=None`, to keep using the old, explicitly pass `rcond=-1`.\n",
      "  intersections[k], resid, rank, singVals = np.linalg.lstsq( \\\n"
     ]
    }
   ],
   "source": [
    "mytllnet = TLLnet.TLLnet(input_dim=1,output_dim=1,linear_fns=100,uo_regions=60)\n",
    "mytllnet.generateRandomCPWA(scale=1)"
   ]
  },
  {
   "cell_type": "code",
   "execution_count": 8,
   "id": "backed-moses",
   "metadata": {},
   "outputs": [
    {
     "name": "stderr",
     "output_type": "stream",
     "text": [
      "/Users/james/Dropbox/Research/Postdoc Yasser/code/TLLnet/TLLnet.py:191: FutureWarning: `rcond` parameter will change to the default of machine precision times ``max(M, N)`` where M and N are the input matrix dimensions.\n",
      "To use the future default and silence this warning we advise to pass `rcond=None`, to keep using the old, explicitly pass `rcond=-1`.\n",
      "  intersections[k], resid, rank, singVals = np.linalg.lstsq( \\\n"
     ]
    }
   ],
   "source": [
    "mytllnet2 = TLLnet.TLLnet(input_dim=1,output_dim=1,linear_fns=100,uo_regions=60)\n",
    "mytllnet2.generateRandomCPWA(scale=1)"
   ]
  },
  {
   "cell_type": "code",
   "execution_count": 6,
   "id": "metallic-silicon",
   "metadata": {},
   "outputs": [],
   "source": [
    "x = np.linspace(-2,2,1000)\n",
    "y = mytllnet.model.predict(x.reshape((len(x),1)))"
   ]
  },
  {
   "cell_type": "code",
   "execution_count": 7,
   "id": "helpful-humidity",
   "metadata": {},
   "outputs": [
    {
     "data": {
      "application/vnd.jupyter.widget-view+json": {
       "model_id": "200150701f1b46d0bd904be602c0b1fd",
       "version_major": 2,
       "version_minor": 0
      },
      "text/plain": [
       "Canvas(toolbar=Toolbar(toolitems=[('Home', 'Reset original view', 'home', 'home'), ('Back', 'Back to previous …"
      ]
     },
     "metadata": {},
     "output_type": "display_data"
    }
   ],
   "source": [
    "fig = plt.figure(5)\n",
    "fig.clf()\n",
    "plt.plot(x,y)\n",
    "display(fig.canvas)"
   ]
  },
  {
   "cell_type": "code",
   "execution_count": 370,
   "id": "adult-sister",
   "metadata": {},
   "outputs": [
    {
     "name": "stderr",
     "output_type": "stream",
     "text": [
      "/Users/james/Dropbox/Research/Postdoc Yasser/code/TLLnet/TLLnet.py:191: FutureWarning: `rcond` parameter will change to the default of machine precision times ``max(M, N)`` where M and N are the input matrix dimensions.\n",
      "To use the future default and silence this warning we advise to pass `rcond=None`, to keep using the old, explicitly pass `rcond=-1`.\n",
      "  intersections[k], resid, rank, singVals = np.linalg.lstsq( \\\n"
     ]
    },
    {
     "data": {
      "application/vnd.jupyter.widget-view+json": {
       "model_id": "ba02b13ea250497ea4521417856ffdeb",
       "version_major": 2,
       "version_minor": 0
      },
      "text/plain": [
       "Canvas(toolbar=Toolbar(toolitems=[('Home', 'Reset original view', 'home', 'home'), ('Back', 'Back to previous …"
      ]
     },
     "metadata": {},
     "output_type": "display_data"
    }
   ],
   "source": [
    "mytllnet = TLLnet.TLLnet(input_dim=1,output_dim=1,linear_fns=63,uo_regions=100)\n",
    "mytllnet.generateRandomCPWA(scale=1)\n",
    "x = np.linspace(-2,2,1000)\n",
    "y = mytllnet.model.predict(x.reshape((len(x),1)))\n",
    "fig = plt.figure(7)\n",
    "fig.clf()\n",
    "plt.plot(x,y)\n",
    "display(fig.canvas)"
   ]
  },
  {
   "cell_type": "markdown",
   "id": "classical-demand",
   "metadata": {},
   "source": [
    "### In 2-D"
   ]
  },
  {
   "cell_type": "code",
   "execution_count": 18,
   "id": "republican-mailing",
   "metadata": {},
   "outputs": [
    {
     "data": {
      "application/vnd.jupyter.widget-view+json": {
       "model_id": "3dfd218fcdfa4355b0d458c70c5c5def",
       "version_major": 2,
       "version_minor": 0
      },
      "text/plain": [
       "Canvas(toolbar=Toolbar(toolitems=[('Home', 'Reset original view', 'home', 'home'), ('Back', 'Back to previous …"
      ]
     },
     "metadata": {},
     "output_type": "display_data"
    }
   ],
   "source": [
    "importlib.reload(TLLnet)\n",
    "mytllnet = TLLnet.TLLnet(input_dim=2,output_dim=1,linear_fns=100,uo_regions=60)\n",
    "mytllnet.generateRandomCPWA(scale=1)\n",
    "x = np.linspace(-2,2,500)\n",
    "X,Y = np.meshgrid(x,x)\n",
    "xy = np.vstack([X.flatten(),Y.flatten()]).T\n",
    "z = mytllnet.model.predict(xy)\n",
    "Z = z.flatten().reshape((len(x),len(x)))\n",
    "fig = plt.figure(10)\n",
    "fig.clf()\n",
    "ax = fig.add_subplot(111,projection='3d')\n",
    "surf = ax.plot_surface(X, Y, Z, linewidth=2)\n",
    "plt.show()\n",
    "display(fig.canvas)"
   ]
  },
  {
   "cell_type": "code",
   "execution_count": 371,
   "id": "incredible-jonathan",
   "metadata": {},
   "outputs": [
    {
     "name": "stderr",
     "output_type": "stream",
     "text": [
      "/Users/james/Dropbox/Research/Postdoc Yasser/code/TLLnet/TLLnet.py:191: FutureWarning: `rcond` parameter will change to the default of machine precision times ``max(M, N)`` where M and N are the input matrix dimensions.\n",
      "To use the future default and silence this warning we advise to pass `rcond=None`, to keep using the old, explicitly pass `rcond=-1`.\n",
      "  intersections[k], resid, rank, singVals = np.linalg.lstsq( \\\n"
     ]
    },
    {
     "data": {
      "application/vnd.jupyter.widget-view+json": {
       "model_id": "e6db5ab7bcc54b748008a97cc0fd35c9",
       "version_major": 2,
       "version_minor": 0
      },
      "text/plain": [
       "Canvas(toolbar=Toolbar(toolitems=[('Home', 'Reset original view', 'home', 'home'), ('Back', 'Back to previous …"
      ]
     },
     "metadata": {},
     "output_type": "display_data"
    }
   ],
   "source": [
    "importlib.reload(TLLnet)\n",
    "mytllnet = TLLnet.TLLnet(input_dim=2,output_dim=1,linear_fns=128,uo_regions=150)\n",
    "mytllnet.generateRandomCPWA(scale=1)\n",
    "x = np.linspace(-2,2,750)\n",
    "X,Y = np.meshgrid(x,x)\n",
    "xy = np.vstack([X.flatten(),Y.flatten()]).T\n",
    "z = mytllnet.model.predict(xy)\n",
    "Z = z.flatten().reshape((len(x),len(x)))\n",
    "fig = plt.figure(11)\n",
    "fig.clf()\n",
    "ax = fig.add_subplot(111,projection='3d')\n",
    "surf = ax.plot_surface(X, Y, Z, linewidth=2)\n",
    "plt.show()\n",
    "display(fig.canvas)"
   ]
  },
  {
   "cell_type": "code",
   "execution_count": 171,
   "id": "physical-marijuana",
   "metadata": {},
   "outputs": [],
   "source": [
    "with open('/Users/james/Dropbox/Research/Postdoc Yasser/NN Verification/TLLHyperCubeOutput/CDC2021/experiments/DUMMY_EXPERIMENT/TLLExperimentGroup20210225192514.p','rb') as fp:\n",
    "    experimentGroup = pickle.load(fp)"
   ]
  },
  {
   "cell_type": "code",
   "execution_count": 72,
   "id": "capital-settle",
   "metadata": {},
   "outputs": [],
   "source": [
    "import pickle\n",
    "import volestipy"
   ]
  },
  {
   "cell_type": "code",
   "execution_count": 115,
   "id": "corresponding-optimum",
   "metadata": {},
   "outputs": [],
   "source": [
    "volPoly = volestipy.HPolytope(-1 * experimentGroup[0][0]['inputPoly']['A'], -experimentGroup[0][0]['inputPoly']['b'])"
   ]
  },
  {
   "cell_type": "code",
   "execution_count": 167,
   "id": "native-internship",
   "metadata": {},
   "outputs": [],
   "source": [
    "samps = volPoly.generate_samples(walk_len=500,n_samples=10000)"
   ]
  },
  {
   "cell_type": "code",
   "execution_count": 168,
   "id": "extraordinary-geology",
   "metadata": {},
   "outputs": [
    {
     "data": {
      "text/plain": [
       "array([[ 0.1910864 ],\n",
       "       [-1.85544415],\n",
       "       [ 0.54826784],\n",
       "       ...,\n",
       "       [-0.04386424],\n",
       "       [ 0.32175534],\n",
       "       [-0.65726419]])"
      ]
     },
     "execution_count": 168,
     "metadata": {},
     "output_type": "execute_result"
    }
   ],
   "source": [
    "samps"
   ]
  },
  {
   "cell_type": "code",
   "execution_count": 172,
   "id": "bound-tracy",
   "metadata": {},
   "outputs": [
    {
     "data": {
      "application/vnd.jupyter.widget-view+json": {
       "model_id": "ad4c90c84f184efe900b1b4d285ac7ca",
       "version_major": 2,
       "version_minor": 0
      },
      "text/plain": [
       "Canvas(toolbar=Toolbar(toolitems=[('Home', 'Reset original view', 'home', 'home'), ('Back', 'Back to previous …"
      ]
     },
     "metadata": {},
     "output_type": "display_data"
    }
   ],
   "source": [
    "fig = plt.figure(12)\n",
    "plt.clf()\n",
    "plt.plot(experimentGroup[0][0]['samples']['input'], experimentGroup[0][0]['samples']['output'],'.')\n",
    "plt.show()\n",
    "plt.axis([-2,2,-5,0])\n",
    "plt.grid()\n",
    "display(fig.canvas)"
   ]
  },
  {
   "cell_type": "code",
   "execution_count": 174,
   "id": "immune-domestic",
   "metadata": {},
   "outputs": [
    {
     "data": {
      "text/plain": [
       "{'A': array([[ 1.        ],\n",
       "        [-1.61774042]]),\n",
       " 'b': array([-1.92489372, -1.        ]),\n",
       " 'numFaces': 2,\n",
       " 'polyDefinition': 'Ax >= b',\n",
       " 'numGenerators': 10}"
      ]
     },
     "execution_count": 174,
     "metadata": {},
     "output_type": "execute_result"
    }
   ],
   "source": [
    "experimentGroup[0][0]['inputPoly']"
   ]
  },
  {
   "cell_type": "code",
   "execution_count": 173,
   "id": "closed-pavilion",
   "metadata": {},
   "outputs": [
    {
     "data": {
      "text/plain": [
       "0.6181461423829665"
      ]
     },
     "execution_count": 173,
     "metadata": {},
     "output_type": "execute_result"
    }
   ],
   "source": [
    "1/1.61774042"
   ]
  },
  {
   "cell_type": "code",
   "execution_count": 170,
   "id": "prospective-barcelona",
   "metadata": {},
   "outputs": [
    {
     "data": {
      "text/plain": [
       "0.6178208620106906"
      ]
     },
     "execution_count": 170,
     "metadata": {},
     "output_type": "execute_result"
    }
   ],
   "source": [
    "np.maxif out >= self.m:\n",
    "            raise ValueError('Output ' + str(out) + ' is greater than m = ' + str(self.m))(samps)"
   ]
  },
  {
   "cell_type": "code",
   "execution_count": 80,
   "id": "cleared-colony",
   "metadata": {},
   "outputs": [],
   "source": [
    "newTLLnet = TLLnet.TLLnet(input_dim=1,output_dim=1,linear_fns=64,uo_regions=48)"
   ]
  },
  {
   "cell_type": "code",
   "execution_count": 81,
   "id": "numerical-granny",
   "metadata": {},
   "outputs": [],
   "source": [
    "for ii in range(len(experimentGroup[0][0]['TLLparameters']['selectorMatrices'][0])):\n",
    "    newTLLnet.setSelector(experimentGroup[0][0]['TLLparameters']['selectorMatrices'][0][ii],ii)"
   ]
  },
  {
   "cell_type": "code",
   "execution_count": 82,
   "id": "inside-access",
   "metadata": {},
   "outputs": [],
   "source": [
    "newTLLnet.setLocalLinFns(experimentGroup[0][0]['TLLparameters']['localLinearFunctions'][0][0],experimentGroup[0][0]['TLLparameters']['localLinearFunctions'][0][1])"
   ]
  },
  {
   "cell_type": "code",
   "execution_count": 83,
   "id": "crude-pastor",
   "metadata": {},
   "outputs": [
    {
     "data": {
      "application/vnd.jupyter.widget-view+json": {
       "model_id": "0e02ce637d4c4627a1f8dff8597e140e",
       "version_major": 2,
       "version_minor": 0
      },
      "text/plain": [
       "Canvas(toolbar=Toolbar(toolitems=[('Home', 'Reset original view', 'home', 'home'), ('Back', 'Back to previous …"
      ]
     },
     "metadata": {},
     "output_type": "display_data"
    },
    {
     "data": {
      "application/vnd.jupyter.widget-view+json": {
       "model_id": "0e02ce637d4c4627a1f8dff8597e140e",
       "version_major": 2,
       "version_minor": 0
      },
      "text/plain": [
       "Canvas(toolbar=Toolbar(toolitems=[('Home', 'Reset original view', 'home', 'home'), ('Back', 'Back to previous …"
      ]
     },
     "metadata": {},
     "output_type": "display_data"
    }
   ],
   "source": [
    "fig = plt.figure(15)\n",
    "plt.clf()\n",
    "x = np.linspace(-2,2,10000)\n",
    "y = newTLLnet.model.predict(x.reshape((len(x),1)))\n",
    "plt.plot(x, y,'.')\n",
    "plt.show()\n",
    "plt.axis([-2,2,-5,0])\n",
    "plt.grid()\n",
    "display(fig.canvas)"
   ]
  },
  {
   "cell_type": "code",
   "execution_count": 145,
   "id": "enclosed-conspiracy",
   "metadata": {},
   "outputs": [
    {
     "data": {
      "text/plain": [
       "array([-4.08868524])"
      ]
     },
     "execution_count": 145,
     "metadata": {},
     "output_type": "execute_result"
    }
   ],
   "source": [
    "y[175]"
   ]
  },
  {
   "cell_type": "code",
   "execution_count": 144,
   "id": "lasting-inquiry",
   "metadata": {},
   "outputs": [
    {
     "data": {
      "text/plain": [
       "-1.92999299929993"
      ]
     },
     "execution_count": 144,
     "metadata": {},
     "output_type": "execute_result"
    }
   ],
   "source": [
    "x[175]"
   ]
  },
  {
   "cell_type": "code",
   "execution_count": 89,
   "id": "coated-driving",
   "metadata": {},
   "outputs": [],
   "source": [
    "with open('/Users/james/Dropbox/Research/Postdoc Yasser/NN Verification/TLLHyperCubeOutput/CDC2021/experiments/DUMMY_EXPERIMENT/TLLExperimentGroup20210225192514.p','rb') as fp:\n",
    "    experimentGroup = pickle.load(fp)"
   ]
  },
  {
   "cell_type": "code",
   "execution_count": 90,
   "id": "formed-cleanup",
   "metadata": {},
   "outputs": [],
   "source": [
    "newTLLnet = TLLnet.TLLnet(input_dim=2,output_dim=1,linear_fns=64,uo_regions=48)"
   ]
  },
  {
   "cell_type": "code",
   "execution_count": 95,
   "id": "naked-parent",
   "metadata": {},
   "outputs": [],
   "source": [
    "grp = 1\n",
    "idxx = 0\n",
    "for ii in range(len(experimentGroup[grp][idxx]['TLLparameters']['selectorMatrices'][0])):\n",
    "    newTLLnet.setSelector(experimentGroup[grp][idxx]['TLLparameters']['selectorMatrices'][0][ii],ii)"
   ]
  },
  {
   "cell_type": "code",
   "execution_count": 96,
   "id": "civic-surgeon",
   "metadata": {},
   "outputs": [],
   "source": [
    "newTLLnet.setLocalLinFns(experimentGroup[grp][idxx]['TLLparameters']['localLinearFunctions'][0][0],experimentGroup[grp][idxx]['TLLparameters']['localLinearFunctions'][0][1])"
   ]
  },
  {
   "cell_type": "code",
   "execution_count": 97,
   "id": "necessary-still",
   "metadata": {},
   "outputs": [
    {
     "data": {
      "application/vnd.jupyter.widget-view+json": {
       "model_id": "a1fcce04a2fc4337a4a6dfb4a720f22c",
       "version_major": 2,
       "version_minor": 0
      },
      "text/plain": [
       "Canvas(toolbar=Toolbar(toolitems=[('Home', 'Reset original view', 'home', 'home'), ('Back', 'Back to previous …"
      ]
     },
     "metadata": {},
     "output_type": "display_data"
    }
   ],
   "source": [
    "x = np.linspace(-2,2,750)\n",
    "X,Y = np.meshgrid(x,x)\n",
    "xy = np.vstack([X.flatten(),Y.flatten()]).T\n",
    "z = newTLLnet.model.predict(xy)\n",
    "Z = z.flatten().reshape((len(x),len(x)))\n",
    "fig = plt.figure(11)\n",
    "fig.clf()\n",
    "ax = fig.add_subplot(111,projection='3d')\n",
    "surf = ax.plot_surface(X, Y, Z, linewidth=2)\n",
    "plt.show()\n",
    "display(fig.canvas)"
   ]
  },
  {
   "cell_type": "code",
   "execution_count": 77,
   "id": "ignored-senior",
   "metadata": {},
   "outputs": [
    {
     "data": {
      "application/vnd.jupyter.widget-view+json": {
       "model_id": "a7ea8bc2a1704a04a341d651fe4d6b6b",
       "version_major": 2,
       "version_minor": 0
      },
      "text/plain": [
       "Canvas(toolbar=Toolbar(toolitems=[('Home', 'Reset original view', 'home', 'home'), ('Back', 'Back to previous …"
      ]
     },
     "metadata": {},
     "output_type": "display_data"
    }
   ],
   "source": [
    "fig = plt.figure(13)\n",
    "fig.clf()\n",
    "A = experimentGroup[grp][idxx]['inputPoly']['A']\n",
    "b = experimentGroup[grp][idxx]['inputPoly']['b']\n",
    "x = np.linspace(-2,2,1000)\n",
    "for ii in range(len(A)):\n",
    "    y = (1/A[ii,1]) * ( -A[ii,0]*x + b[ii] )\n",
    "    plt.plot(x,y)\n",
    "plt.axis([-2,2,-2,2])\n",
    "plt.show()\n",
    "display(fig.canvas)"
   ]
  },
  {
   "cell_type": "code",
   "execution_count": 218,
   "id": "active-transportation",
   "metadata": {},
   "outputs": [
    {
     "data": {
      "text/plain": [
       "array([0.47797063, 0.03471295])"
      ]
     },
     "execution_count": 218,
     "metadata": {},
     "output_type": "execute_result"
    }
   ],
   "source": [
    "xy[np.argmax(z)]"
   ]
  },
  {
   "cell_type": "code",
   "execution_count": 228,
   "id": "surprising-toilet",
   "metadata": {},
   "outputs": [
    {
     "data": {
      "text/plain": [
       "-3.551841951493664"
      ]
     },
     "execution_count": 228,
     "metadata": {},
     "output_type": "execute_result"
    }
   ],
   "source": [
    "np.min(z[validPts])"
   ]
  },
  {
   "cell_type": "code",
   "execution_count": 225,
   "id": "positive-leonard",
   "metadata": {},
   "outputs": [],
   "source": [
    "validPts = list( map( lambda u: np.count_nonzero(A @ u - b >= 0) == len(A), xy )  )"
   ]
  },
  {
   "cell_type": "code",
   "execution_count": 226,
   "id": "decent-assistant",
   "metadata": {},
   "outputs": [
    {
     "data": {
      "text/plain": [
       "[182701, 562500]"
      ]
     },
     "execution_count": 226,
     "metadata": {},
     "output_type": "execute_result"
    }
   ],
   "source": [
    "[np.count_nonzero(validPts),len(xy)]"
   ]
  },
  {
   "cell_type": "code",
   "execution_count": 216,
   "id": "experimental-holmes",
   "metadata": {},
   "outputs": [
    {
     "data": {
      "text/plain": [
       "5"
      ]
     },
     "execution_count": 216,
     "metadata": {},
     "output_type": "execute_result"
    }
   ],
   "source": [
    "experimentGroup[1][0]['inputPoly']['numFaces']"
   ]
  },
  {
   "cell_type": "code",
   "execution_count": 209,
   "id": "flush-entrepreneur",
   "metadata": {},
   "outputs": [
    {
     "data": {
      "text/plain": [
       "{'A': array([[ 1.37273182, -1.        ],\n",
       "        [ 1.01022848,  1.        ],\n",
       "        [ 6.93162366, -1.        ],\n",
       "        [-3.45676138,  3.72263055],\n",
       "        [-1.        , -5.69430695]]),\n",
       " 'b': array([ -3.6712379 ,  -3.49380178, -12.32920407,   1.        ,\n",
       "        -10.05149732]),\n",
       " 'numFaces': 5,\n",
       " 'polyDefinition': 'Ax >= b',\n",
       " 'numGenerators': 10}"
      ]
     },
     "execution_count": 209,
     "metadata": {},
     "output_type": "execute_result"
    }
   ],
   "source": [
    "experimentGroup[1][0]['inputPoly']"
   ]
  },
  {
   "cell_type": "code",
   "execution_count": null,
   "id": "impaired-arbor",
   "metadata": {},
   "outputs": [],
   "source": [
    "[array([1.63103849, 0.8667669 ]), array([2.39555668])]\n",
    "[array([-1.2014224 ,  0.33283946]), array([-1.97864806])]\n",
    "[array([0.40296976, 1.26905385]), array([0.34960276])]\n",
    "[array([-0.30075663, -1.39122181]), array([-0.15542925])]"
   ]
  },
  {
   "cell_type": "code",
   "execution_count": 70,
   "id": "offshore-inspiration",
   "metadata": {},
   "outputs": [
    {
     "data": {
      "application/vnd.jupyter.widget-view+json": {
       "model_id": "9700f6f593f442b18a6468b2fd28435b",
       "version_major": 2,
       "version_minor": 0
      },
      "text/plain": [
       "Canvas(toolbar=Toolbar(toolitems=[('Home', 'Reset original view', 'home', 'home'), ('Back', 'Back to previous …"
      ]
     },
     "metadata": {},
     "output_type": "display_data"
    }
   ],
   "source": [
    "x = np.linspace(-2,2,1000)\n",
    "fig = plt.figure(5)\n",
    "fig.clf()\n",
    "y1 = (-1.63103849*x - 2.39555668)/0.8667669\n",
    "plt.plot(x,y1)\n",
    "y2 = (1.2014224*x + 1.97864806)/0.33283946\n",
    "plt.plot(x,y2)\n",
    "y3 = (-0.40296976*x - 0.34960276)/1.26905385\n",
    "plt.plot(x,y3)\n",
    "y4 = (0.30075663*x + 0.15542925)/-1.39122181\n",
    "plt.plot(x,y4)\n",
    "plt.axis([-2,2,-2,2])\n",
    "plt.grid()\n",
    "plt.show()\n",
    "display(fig.canvas)"
   ]
  },
  {
   "cell_type": "code",
   "execution_count": 79,
   "id": "native-brazilian",
   "metadata": {},
   "outputs": [
    {
     "data": {
      "text/plain": [
       "6546781215792283740026379393655198304433284092086129578966582736192267592809349109766540184651808314301773368255120142018434513091770786106657055178752"
      ]
     },
     "execution_count": 79,
     "metadata": {},
     "output_type": "execute_result"
    }
   ],
   "source": [
    "2**501"
   ]
  },
  {
   "cell_type": "code",
   "execution_count": null,
   "id": "electoral-regular",
   "metadata": {},
   "outputs": [],
   "source": []
  }
 ],
 "metadata": {
  "kernelspec": {
   "display_name": "Python 3 (ipykernel)",
   "language": "python",
   "name": "python3"
  },
  "language_info": {
   "codemirror_mode": {
    "name": "ipython",
    "version": 3
   },
   "file_extension": ".py",
   "mimetype": "text/x-python",
   "name": "python",
   "nbconvert_exporter": "python",
   "pygments_lexer": "ipython3",
   "version": "3.8.12"
  },
  "widgets": {
   "application/vnd.jupyter.widget-state+json": {
    "state": {
     "7087a77ca4804a0eb585a20e842c5e6f": {
      "model_module": "jupyter-matplotlib",
      "model_module_version": "^0.9.0",
      "model_name": "ToolbarModel",
      "state": {
       "layout": "IPY_MODEL_d2cf100f2e7449a7a8d765b3e83654da",
       "toolitems": [
        [
         "Home",
         "Reset original view",
         "home",
         "home"
        ],
        [
         "Back",
         "Back to previous view",
         "arrow-left",
         "back"
        ],
        [
         "Forward",
         "Forward to next view",
         "arrow-right",
         "forward"
        ],
        [
         "Pan",
         "Left button pans, Right button zooms\nx/y fixes axis, CTRL fixes aspect",
         "arrows",
         "pan"
        ],
        [
         "Zoom",
         "Zoom to rectangle\nx/y fixes axis, CTRL fixes aspect",
         "square-o",
         "zoom"
        ],
        [
         "Download",
         "Download plot",
         "floppy-o",
         "save_figure"
        ]
       ]
      }
     },
     "d2cf100f2e7449a7a8d765b3e83654da": {
      "model_module": "@jupyter-widgets/base",
      "model_module_version": "1.2.0",
      "model_name": "LayoutModel",
      "state": {}
     },
     "ee1e7976759f4f249da6e1f63a42f622": {
      "model_module": "jupyter-matplotlib",
      "model_module_version": "^0.9.0",
      "model_name": "MPLCanvasModel",
      "state": {
       "_cursor": "default",
       "_figure_label": "Figure 7",
       "_height": 480,
       "_width": 640,
       "layout": "IPY_MODEL_f65dbe3e434b49ef9dcdb850fe8b3e45",
       "toolbar": "IPY_MODEL_7087a77ca4804a0eb585a20e842c5e6f",
       "toolbar_position": "left"
      }
     },
     "f65dbe3e434b49ef9dcdb850fe8b3e45": {
      "model_module": "@jupyter-widgets/base",
      "model_module_version": "1.2.0",
      "model_name": "LayoutModel",
      "state": {}
     }
    },
    "version_major": 2,
    "version_minor": 0
   }
  }
 },
 "nbformat": 4,
 "nbformat_minor": 5
}
